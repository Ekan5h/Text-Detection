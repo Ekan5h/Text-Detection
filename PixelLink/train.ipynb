{
  "nbformat": 4,
  "nbformat_minor": 0,
  "metadata": {
    "kernelspec": {
      "name": "python3",
      "display_name": "Python 3"
    },
    "language_info": {
      "codemirror_mode": {
        "name": "ipython",
        "version": 3
      },
      "file_extension": ".py",
      "mimetype": "text/x-python",
      "name": "python",
      "nbconvert_exporter": "python",
      "pygments_lexer": "ipython3",
      "version": "3.6.9"
    },
    "colab": {
      "name": "Train.ipynb",
      "provenance": []
    },
    "accelerator": "GPU"
  },
  "cells": [
    {
      "cell_type": "code",
      "metadata": {
        "id": "9a3JjMexc73_",
        "colab_type": "code",
        "colab": {}
      },
      "source": [
        "from google.colab import drive\n",
        "drive.mount('/content/drive')"
      ],
      "execution_count": 0,
      "outputs": []
    },
    {
      "cell_type": "code",
      "metadata": {
        "id": "kgH9eKUzdP_-",
        "colab_type": "code",
        "colab": {}
      },
      "source": [
        "!cp \"/content/drive/My Drive/model.py\" ."
      ],
      "execution_count": 0,
      "outputs": []
    },
    {
      "cell_type": "code",
      "metadata": {
        "id": "V5vw7foEdaLi",
        "colab_type": "code",
        "colab": {}
      },
      "source": [
        "!cp \"/content/drive/My Drive/truth.zip\" ."
      ],
      "execution_count": 0,
      "outputs": []
    },
    {
      "cell_type": "code",
      "metadata": {
        "id": "fuoEMpk5dj01",
        "colab_type": "code",
        "colab": {}
      },
      "source": [
        "!unzip truth.zip"
      ],
      "execution_count": 0,
      "outputs": []
    },
    {
      "cell_type": "code",
      "metadata": {
        "id": "p0lhCZdzdifb",
        "colab_type": "code",
        "colab": {}
      },
      "source": [
        "import warnings\n",
        "warnings.filterwarnings('ignore')\n",
        "from model import PixelLink4s\n",
        "import numpy as np\n",
        "import matplotlib.pyplot as plt\n",
        "from keras import optimizers\n",
        "from tensorflow.python.util import deprecation\n",
        "deprecation._PRINT_DEPRECATION_WARNINGS = False"
      ],
      "execution_count": 0,
      "outputs": []
    },
    {
      "cell_type": "code",
      "metadata": {
        "id": "gq2iribdc0IX",
        "colab_type": "code",
        "colab": {}
      },
      "source": [
        "train_X = []\n",
        "for i in range(1,1256):\n",
        "    train_X.append(np.load(\"truth/train/images/\"+str(i)+\".npy\"))\n",
        "train_X = np.array(train_X).astype('float32')"
      ],
      "execution_count": 0,
      "outputs": []
    },
    {
      "cell_type": "code",
      "metadata": {
        "id": "9SkAP8bOc0Ig",
        "colab_type": "code",
        "colab": {}
      },
      "source": [
        "train_Y1 = []\n",
        "train_Y2 = []\n",
        "for i in range(1,1256):\n",
        "    train_Y1.append(np.load(\"truth/train/tnt/\"+str(i)+\".npy\"))\n",
        "    train_Y2.append(np.load(\"truth/train/link/\"+str(i)+\".npy\"))\n",
        "train_Y1 = np.array(train_Y1).astype('float32')\n",
        "train_Y2 = np.array(train_Y2).astype('float32')"
      ],
      "execution_count": 0,
      "outputs": []
    },
    {
      "cell_type": "code",
      "metadata": {
        "id": "BNKnmcdYekx0",
        "colab_type": "code",
        "colab": {}
      },
      "source": [
        "test_X = []\n",
        "for i in range(1,301):\n",
        "    test_X.append(np.load(\"truth/test/images/\"+str(i)+\".npy\"))\n",
        "test_X = np.array(test_X).astype('float32')"
      ],
      "execution_count": 0,
      "outputs": []
    },
    {
      "cell_type": "code",
      "metadata": {
        "id": "nGmEOLZFezEX",
        "colab_type": "code",
        "colab": {}
      },
      "source": [
        "test_Y1 = []\n",
        "test_Y2 = []\n",
        "for i in range(1,301):\n",
        "    test_Y1.append(np.load(\"truth/test/tnt/\"+str(i)+\".npy\"))\n",
        "    test_Y2.append(np.load(\"truth/test/link/\"+str(i)+\".npy\"))\n",
        "test_Y1 = np.array(test_Y1).astype('float32')\n",
        "test_Y2 = np.array(test_Y2).astype('float32')"
      ],
      "execution_count": 0,
      "outputs": []
    },
    {
      "cell_type": "code",
      "metadata": {
        "id": "cSOVFuPTc0Iq",
        "colab_type": "code",
        "colab": {
          "base_uri": "https://localhost:8080/",
          "height": 34
        },
        "outputId": "837beb00-fa88-4a42-fad5-3998d70c4678"
      },
      "source": [
        "train_X.shape"
      ],
      "execution_count": 10,
      "outputs": [
        {
          "output_type": "execute_result",
          "data": {
            "text/plain": [
              "(1255, 224, 224, 3)"
            ]
          },
          "metadata": {
            "tags": []
          },
          "execution_count": 10
        }
      ]
    },
    {
      "cell_type": "code",
      "metadata": {
        "scrolled": true,
        "id": "eExaBxIrc0I0",
        "colab_type": "code",
        "colab": {}
      },
      "source": [
        "model = PixelLink4s(input_shape=(224,224,3))"
      ],
      "execution_count": 0,
      "outputs": []
    },
    {
      "cell_type": "code",
      "metadata": {
        "id": "truDjj2Wc0I8",
        "colab_type": "code",
        "colab": {
          "base_uri": "https://localhost:8080/",
          "height": 51
        },
        "outputId": "15c5871a-497a-49d1-b519-340611091b4d"
      },
      "source": [
        "model.output"
      ],
      "execution_count": 12,
      "outputs": [
        {
          "output_type": "execute_result",
          "data": {
            "text/plain": [
              "[<tf.Tensor 'text_not_text/truediv:0' shape=(?, 56, 56, 2) dtype=float32>,\n",
              " <tf.Tensor 'link/truediv:0' shape=(?, 56, 56, 16) dtype=float32>]"
            ]
          },
          "metadata": {
            "tags": []
          },
          "execution_count": 12
        }
      ]
    },
    {
      "cell_type": "code",
      "metadata": {
        "id": "AEomon4Gc0JI",
        "colab_type": "code",
        "colab": {}
      },
      "source": [
        "sgd = optimizers.SGD(lr=0.01, decay=5e-4, momentum=0.9)\n",
        "model.compile(optimizer=sgd, loss=\"binary_crossentropy\")"
      ],
      "execution_count": 0,
      "outputs": []
    },
    {
      "cell_type": "code",
      "metadata": {
        "id": "tn_yH1A8c0JR",
        "colab_type": "code",
        "colab": {
          "base_uri": "https://localhost:8080/",
          "height": 411
        },
        "outputId": "c91ab5e5-218d-4681-d56c-c665dfbc4be3"
      },
      "source": [
        "model.fit(train_X, [train_Y1,train_Y2], validation_data=(test_X, [test_Y1, test_Y2]),epochs = 10)"
      ],
      "execution_count": 46,
      "outputs": [
        {
          "output_type": "stream",
          "text": [
            "Train on 1255 samples, validate on 300 samples\n",
            "Epoch 1/10\n",
            "1255/1255 [==============================] - 11s 9ms/step - loss: 0.5319 - text_not_text_loss: 0.0846 - link_loss: 0.4473 - val_loss: 0.5451 - val_text_not_text_loss: 0.0964 - val_link_loss: 0.4487\n",
            "Epoch 2/10\n",
            "1255/1255 [==============================] - 11s 9ms/step - loss: 0.5319 - text_not_text_loss: 0.0846 - link_loss: 0.4473 - val_loss: 0.5451 - val_text_not_text_loss: 0.0964 - val_link_loss: 0.4487\n",
            "Epoch 3/10\n",
            "1255/1255 [==============================] - 11s 9ms/step - loss: 0.5319 - text_not_text_loss: 0.0846 - link_loss: 0.4473 - val_loss: 0.5451 - val_text_not_text_loss: 0.0964 - val_link_loss: 0.4487\n",
            "Epoch 4/10\n",
            "1255/1255 [==============================] - 11s 9ms/step - loss: 0.5319 - text_not_text_loss: 0.0846 - link_loss: 0.4473 - val_loss: 0.5451 - val_text_not_text_loss: 0.0964 - val_link_loss: 0.4487\n",
            "Epoch 5/10\n",
            "1255/1255 [==============================] - 11s 9ms/step - loss: 0.5319 - text_not_text_loss: 0.0846 - link_loss: 0.4473 - val_loss: 0.5451 - val_text_not_text_loss: 0.0964 - val_link_loss: 0.4487\n",
            "Epoch 6/10\n",
            "1255/1255 [==============================] - 11s 9ms/step - loss: 0.5319 - text_not_text_loss: 0.0846 - link_loss: 0.4473 - val_loss: 0.5451 - val_text_not_text_loss: 0.0964 - val_link_loss: 0.4487\n",
            "Epoch 7/10\n",
            "1255/1255 [==============================] - 11s 9ms/step - loss: 0.5319 - text_not_text_loss: 0.0846 - link_loss: 0.4473 - val_loss: 0.5451 - val_text_not_text_loss: 0.0964 - val_link_loss: 0.4487\n",
            "Epoch 8/10\n",
            "1255/1255 [==============================] - 11s 9ms/step - loss: 0.5319 - text_not_text_loss: 0.0846 - link_loss: 0.4473 - val_loss: 0.5451 - val_text_not_text_loss: 0.0964 - val_link_loss: 0.4487\n",
            "Epoch 9/10\n",
            "1255/1255 [==============================] - 11s 9ms/step - loss: 0.5319 - text_not_text_loss: 0.0846 - link_loss: 0.4473 - val_loss: 0.5451 - val_text_not_text_loss: 0.0964 - val_link_loss: 0.4487\n",
            "Epoch 10/10\n",
            "1255/1255 [==============================] - 11s 9ms/step - loss: 0.5319 - text_not_text_loss: 0.0846 - link_loss: 0.4473 - val_loss: 0.5451 - val_text_not_text_loss: 0.0964 - val_link_loss: 0.4487\n"
          ],
          "name": "stdout"
        },
        {
          "output_type": "execute_result",
          "data": {
            "text/plain": [
              "<keras.callbacks.History at 0x7f8e8fc70a90>"
            ]
          },
          "metadata": {
            "tags": []
          },
          "execution_count": 46
        }
      ]
    }
  ]
}